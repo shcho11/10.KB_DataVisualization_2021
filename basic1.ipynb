{
  "nbformat": 4,
  "nbformat_minor": 0,
  "metadata": {
    "colab": {
      "name": "Untitled4.ipynb의 사본",
      "provenance": [],
      "authorship_tag": "ABX9TyO4GGL1+kfQXD8MCTw9vUc+",
      "include_colab_link": true
    },
    "kernelspec": {
      "name": "python3",
      "display_name": "Python 3"
    },
    "language_info": {
      "name": "python"
    }
  },
  "cells": [
    {
      "cell_type": "markdown",
      "metadata": {
        "id": "view-in-github",
        "colab_type": "text"
      },
      "source": [
        "<a href=\"https://colab.research.google.com/github/shcho11/Songhyun_PythonVisualization/blob/main/basic1.ipynb\" target=\"_parent\"><img src=\"https://colab.research.google.com/assets/colab-badge.svg\" alt=\"Open In Colab\"/></a>"
      ]
    },
    {
      "cell_type": "code",
      "source": [
        "!sudo apt-get install -y fonts-nanum\n",
        "!sudo fc-cache -fv\n",
        "!rm ~/.cache/matplotlib -rf"
      ],
      "metadata": {
        "id": "P5Di9ZeAGMZh",
        "outputId": "3d3bdd77-499d-4164-f482-a9d4c63a0437",
        "colab": {
          "base_uri": "https://localhost:8080/"
        }
      },
      "execution_count": 1,
      "outputs": [
        {
          "output_type": "stream",
          "name": "stdout",
          "text": [
            "Reading package lists... Done\n",
            "Building dependency tree       \n",
            "Reading state information... Done\n",
            "The following NEW packages will be installed:\n",
            "  fonts-nanum\n",
            "0 upgraded, 1 newly installed, 0 to remove and 37 not upgraded.\n",
            "Need to get 9,604 kB of archives.\n",
            "After this operation, 29.5 MB of additional disk space will be used.\n",
            "Get:1 http://archive.ubuntu.com/ubuntu bionic/universe amd64 fonts-nanum all 20170925-1 [9,604 kB]\n",
            "Fetched 9,604 kB in 1s (8,355 kB/s)\n",
            "debconf: unable to initialize frontend: Dialog\n",
            "debconf: (No usable dialog-like program is installed, so the dialog based frontend cannot be used. at /usr/share/perl5/Debconf/FrontEnd/Dialog.pm line 76, <> line 1.)\n",
            "debconf: falling back to frontend: Readline\n",
            "debconf: unable to initialize frontend: Readline\n",
            "debconf: (This frontend requires a controlling tty.)\n",
            "debconf: falling back to frontend: Teletype\n",
            "dpkg-preconfigure: unable to re-open stdin: \n",
            "Selecting previously unselected package fonts-nanum.\n",
            "(Reading database ... 155225 files and directories currently installed.)\n",
            "Preparing to unpack .../fonts-nanum_20170925-1_all.deb ...\n",
            "Unpacking fonts-nanum (20170925-1) ...\n",
            "Setting up fonts-nanum (20170925-1) ...\n",
            "Processing triggers for fontconfig (2.12.6-0ubuntu2) ...\n",
            "/usr/share/fonts: caching, new cache contents: 0 fonts, 1 dirs\n",
            "/usr/share/fonts/truetype: caching, new cache contents: 0 fonts, 3 dirs\n",
            "/usr/share/fonts/truetype/humor-sans: caching, new cache contents: 1 fonts, 0 dirs\n",
            "/usr/share/fonts/truetype/liberation: caching, new cache contents: 16 fonts, 0 dirs\n",
            "/usr/share/fonts/truetype/nanum: caching, new cache contents: 10 fonts, 0 dirs\n",
            "/usr/local/share/fonts: caching, new cache contents: 0 fonts, 0 dirs\n",
            "/root/.local/share/fonts: skipping, no such directory\n",
            "/root/.fonts: skipping, no such directory\n",
            "/var/cache/fontconfig: cleaning cache directory\n",
            "/root/.cache/fontconfig: not cleaning non-existent cache directory\n",
            "/root/.fontconfig: not cleaning non-existent cache directory\n",
            "fc-cache: succeeded\n"
          ]
        }
      ]
    },
    {
      "cell_type": "code",
      "metadata": {
        "id": "VLZ8VPNCpL0g"
      },
      "source": [
        "# Matplotlib 는 Data를 display하기 위해 널리 사용되는 파이썬라이브러리\n",
        "# 내부의 pyplot이란 라이브러리를 plt 란 이름으로 import해옴.\n",
        "# pyplot은 matplotlib 의 MATLAB과 유사한 plotting 방식을 제공하는 기능.\n",
        "\n",
        "from matplotlib import pyplot as plt\n",
        "\n",
        "plt.rc('axes', unicode_minus = False)\n",
        "plt.rc('font',family='NanumGothic')\n",
        "\n",
        "#plt.rcParams['axes.unicode_minus'] = False\n",
        "#plt.rcParams['font.family'] = 'Malgun Gothic'"
      ],
      "execution_count": 3,
      "outputs": []
    },
    {
      "cell_type": "code",
      "metadata": {
        "colab": {
          "base_uri": "https://localhost:8080/",
          "height": 332
        },
        "id": "fZFhyzkmpPXi",
        "outputId": "6a9f0172-7702-4452-e31d-d7aa8d2b3ec1"
      },
      "source": [
        "# figure : 전체 바탕이 되는 도화지\n",
        "# axes : 실제로 data가 plotting 되는 각각의 차트공간(좌표평면)\n",
        "# 1개의 figure 안에는 여러개의 axes를 담을 수 있다.\n",
        "\n",
        "x = [0, 1, 2, 3]\n",
        "y = [1, 4, 9, 16]\n",
        "\n",
        "plt.figure(figsize=(10,5))\n",
        "plt.plot(x,y)\n",
        "plt.xlabel(\"X축\")\n",
        "plt.ylabel(\"Y축\")\n",
        "plt.grid()"
      ],
      "execution_count": 4,
      "outputs": [
        {
          "output_type": "display_data",
          "data": {
            "image/png": "[encoded data removed]",
            "text/plain": [
              "<Figure size 720x360 with 1 Axes>"
            ]
          },
          "metadata": {
            "needs_background": "light"
          }
        }
      ]
    },
    {
      "cell_type": "code",
      "metadata": {
        "id": "hZHwjg20pdbm"
      },
      "source": [
        "from matplotlib.font_manager import fontManager"
      ],
      "execution_count": null,
      "outputs": []
    },
    {
      "cell_type": "code",
      "metadata": {
        "id": "eOVJKxa-qvHL"
      },
      "source": [
        "import pandas as pd\n",
        "\n",
        "#plt.rc('axes', unicode_minus = False)\n",
        "#plt.rc('font',family='Malgun Gothic')\n",
        "\n",
        "# axes 영역에서 unicode를 사용하기 위해 아래코드 사용\n",
        "\n",
        "plt.rcParams['axes.unicode_minus'] = False\n",
        "plt.rcParams['font.family'] = 'NanumGothic'\n",
        "\n",
        "# 테마디자인 설정 (다만, seaborn 등 한글지원안되는 몇개 테마가 보임)\n",
        "plt.style.use('dark_background')"
      ],
      "execution_count": 26,
      "outputs": []
    },
    {
      "cell_type": "code",
      "source": [
        "print(plt.style.available)"
      ],
      "metadata": {
        "id": "MYTjtkAoO5pJ",
        "outputId": "ab6a06a0-ad8b-4b99-ff8d-2da98e400cd2",
        "colab": {
          "base_uri": "https://localhost:8080/"
        }
      },
      "execution_count": 9,
      "outputs": [
        {
          "output_type": "stream",
          "name": "stdout",
          "text": [
            "['Solarize_Light2', '_classic_test_patch', 'bmh', 'classic', 'dark_background', 'fast', 'fivethirtyeight', 'ggplot', 'grayscale', 'seaborn', 'seaborn-bright', 'seaborn-colorblind', 'seaborn-dark', 'seaborn-dark-palette', 'seaborn-darkgrid', 'seaborn-deep', 'seaborn-muted', 'seaborn-notebook', 'seaborn-paper', 'seaborn-pastel', 'seaborn-poster', 'seaborn-talk', 'seaborn-ticks', 'seaborn-white', 'seaborn-whitegrid', 'tableau-colorblind10']\n"
          ]
        }
      ]
    },
    {
      "cell_type": "code",
      "metadata": {
        "colab": {
          "base_uri": "https://localhost:8080/",
          "height": 425
        },
        "id": "0n_h14CRrFtS",
        "outputId": "d4601071-95fa-4416-dd31-011f5b04a821"
      },
      "source": [
        "x = [0, 1, 2, 3]\n",
        "y = [1, 4, 9, 16]\n",
        "\n",
        "# 데이터프레임을 설정. (index는 x)\n",
        "df = pd.DataFrame(y, index=x)\n",
        "\n",
        "# 플롯을 설정 (라인플롯으로 할꺼고, figsize로써 width와 height를 설정, grid(격자)여부 설정)\n",
        "ax = df.plot(title=\"Line Plot\", figsize=(10,5), grid=True)\n",
        "\n",
        "ax.set_xlabel(\"X축\")\n",
        "ax.set_ylabel(\"Y축\")\n",
        "\n",
        "#plt.figure(figsize=(10,5))\n",
        "#plt.plot(x,y)\n",
        "#plt.xlabel(\"X축\")\n",
        "#plt.ylabel(\"Y축\")\n",
        "#plt.grid()"
      ],
      "execution_count": 35,
      "outputs": [
        {
          "output_type": "execute_result",
          "data": {
            "text/plain": [
              "Text(0, 0.5, 'Y축')"
            ]
          },
          "metadata": {},
          "execution_count": 35
        },
        {
          "output_type": "display_data",
          "data": {
            "image/png": "[encoded data removed]",
            "text/plain": [
              "<Figure size 800x400 with 1 Axes>"
            ]
          },
          "metadata": {}
        }
      ]
    }
  ]
}
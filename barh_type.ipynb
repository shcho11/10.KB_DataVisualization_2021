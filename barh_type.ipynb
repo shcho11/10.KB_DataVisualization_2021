{
 "cells": [
  {
   "cell_type": "code",
   "execution_count": 1,
   "id": "9273c74e",
   "metadata": {},
   "outputs": [],
   "source": [
    "#matplotlib inline\n",
    "from matplotlib import pyplot as plt\n",
    "\n",
    "plt.rc('axes', unicode_minus=False) \n",
    "plt.rc('font', family='Malgun Gothic')\n",
    "\n",
    "import pandas as pd"
   ]
  },
  {
   "cell_type": "code",
   "execution_count": 2,
   "id": "a41afb5a",
   "metadata": {},
   "outputs": [
    {
     "name": "stdout",
     "output_type": "stream",
     "text": [
      "(48, 1)\n"
     ]
    },
    {
     "data": {
      "text/html": [
       "<div>\n",
       "<style scoped>\n",
       "    .dataframe tbody tr th:only-of-type {\n",
       "        vertical-align: middle;\n",
       "    }\n",
       "\n",
       "    .dataframe tbody tr th {\n",
       "        vertical-align: top;\n",
       "    }\n",
       "\n",
       "    .dataframe thead th {\n",
       "        text-align: right;\n",
       "    }\n",
       "</style>\n",
       "<table border=\"1\" class=\"dataframe\">\n",
       "  <thead>\n",
       "    <tr style=\"text-align: right;\">\n",
       "      <th></th>\n",
       "      <th>곡수</th>\n",
       "    </tr>\n",
       "    <tr>\n",
       "      <th>가수</th>\n",
       "      <th></th>\n",
       "    </tr>\n",
       "  </thead>\n",
       "  <tbody>\n",
       "    <tr>\n",
       "      <th>(여자)아이들</th>\n",
       "      <td>1</td>\n",
       "    </tr>\n",
       "    <tr>\n",
       "      <th>마미손</th>\n",
       "      <td>1</td>\n",
       "    </tr>\n",
       "    <tr>\n",
       "      <th>먼데이 키즈 (Monday Kiz)</th>\n",
       "      <td>1</td>\n",
       "    </tr>\n",
       "    <tr>\n",
       "      <th>바이브</th>\n",
       "      <td>1</td>\n",
       "    </tr>\n",
       "    <tr>\n",
       "      <th>벤</th>\n",
       "      <td>1</td>\n",
       "    </tr>\n",
       "  </tbody>\n",
       "</table>\n",
       "</div>"
      ],
      "text/plain": [
       "                     곡수\n",
       "가수                     \n",
       "(여자)아이들               1\n",
       "마미손                   1\n",
       "먼데이 키즈 (Monday Kiz)   1\n",
       "바이브                   1\n",
       "벤                     1"
      ]
     },
     "execution_count": 2,
     "metadata": {},
     "output_type": "execute_result"
    }
   ],
   "source": [
    "# barh1_df 정의 및 shape 출력\n",
    "barh1_df = pd.read_excel(\"D:/share/data/sample-barh-1.xlsx\", index_col='가수')\n",
    "barh1_df.columns = ['곡수']\n",
    "print(barh1_df.shape)\n",
    "barh1_df.head()"
   ]
  },
  {
   "cell_type": "code",
   "execution_count": 3,
   "id": "34e2966d",
   "metadata": {},
   "outputs": [
    {
     "data": {
      "text/plain": [
       "<AxesSubplot:ylabel='가수'>"
      ]
     },
     "execution_count": 3,
     "metadata": {},
     "output_type": "execute_result"
    },
    {
     "data": {
      "image/png": "[encoded data removed]",
      "text/plain": [
       "<Figure size 432x288 with 1 Axes>"
      ]
     },
     "metadata": {
      "needs_background": "light"
     },
     "output_type": "display_data"
    }
   ],
   "source": [
    "# barh1_df 차트 그리기\n",
    "barh1_df.iloc[-10:].plot(kind='barh')"
   ]
  },
  {
   "cell_type": "code",
   "execution_count": 4,
   "id": "13e171ee",
   "metadata": {},
   "outputs": [
    {
     "name": "stdout",
     "output_type": "stream",
     "text": [
      "(10, 2)\n"
     ]
    },
    {
     "data": {
      "text/html": [
       "<div>\n",
       "<style scoped>\n",
       "    .dataframe tbody tr th:only-of-type {\n",
       "        vertical-align: middle;\n",
       "    }\n",
       "\n",
       "    .dataframe tbody tr th {\n",
       "        vertical-align: top;\n",
       "    }\n",
       "\n",
       "    .dataframe thead th {\n",
       "        text-align: right;\n",
       "    }\n",
       "</style>\n",
       "<table border=\"1\" class=\"dataframe\">\n",
       "  <thead>\n",
       "    <tr style=\"text-align: right;\">\n",
       "      <th></th>\n",
       "      <th>곡수</th>\n",
       "      <th>log(좋아요 합)</th>\n",
       "    </tr>\n",
       "    <tr>\n",
       "      <th>가수</th>\n",
       "      <th></th>\n",
       "      <th></th>\n",
       "    </tr>\n",
       "  </thead>\n",
       "  <tbody>\n",
       "    <tr>\n",
       "      <th>로이킴</th>\n",
       "      <td>2</td>\n",
       "      <td>12.600062</td>\n",
       "    </tr>\n",
       "    <tr>\n",
       "      <th>BLACKPINK</th>\n",
       "      <td>2</td>\n",
       "      <td>12.685860</td>\n",
       "    </tr>\n",
       "    <tr>\n",
       "      <th>iKON</th>\n",
       "      <td>2</td>\n",
       "      <td>12.760791</td>\n",
       "    </tr>\n",
       "    <tr>\n",
       "      <th>멜로망스</th>\n",
       "      <td>2</td>\n",
       "      <td>12.790253</td>\n",
       "    </tr>\n",
       "    <tr>\n",
       "      <th>아이유</th>\n",
       "      <td>2</td>\n",
       "      <td>13.089049</td>\n",
       "    </tr>\n",
       "  </tbody>\n",
       "</table>\n",
       "</div>"
      ],
      "text/plain": [
       "           곡수  log(좋아요 합)\n",
       "가수                       \n",
       "로이킴         2   12.600062\n",
       "BLACKPINK   2   12.685860\n",
       "iKON        2   12.760791\n",
       "멜로망스        2   12.790253\n",
       "아이유         2   13.089049"
      ]
     },
     "execution_count": 4,
     "metadata": {},
     "output_type": "execute_result"
    }
   ],
   "source": [
    "# barh2_df 정의 및 shape 출력\n",
    "barh2_df = pd.read_excel(\"D:/share/data/sample-barh-2.xlsx\", index_col='가수')\n",
    "print(barh2_df.shape)\n",
    "barh2_df.head()"
   ]
  },
  {
   "cell_type": "code",
   "execution_count": 5,
   "id": "5c7f004a",
   "metadata": {},
   "outputs": [
    {
     "data": {
      "text/plain": [
       "<AxesSubplot:ylabel='가수'>"
      ]
     },
     "execution_count": 5,
     "metadata": {},
     "output_type": "execute_result"
    },
    {
     "data": {
      "image/png": "[encoded data removed]",
      "text/plain": [
       "<Figure size 432x288 with 1 Axes>"
      ]
     },
     "metadata": {
      "needs_background": "light"
     },
     "output_type": "display_data"
    }
   ],
   "source": [
    "# barh2_df 차트 그리기\n",
    "barh2_df.plot(kind='barh')"
   ]
  }
 ],
 "metadata": {
  "kernelspec": {
   "display_name": "Python 3",
   "language": "python",
   "name": "python3"
  },
  "language_info": {
   "codemirror_mode": {
    "name": "ipython",
    "version": 3
   },
   "file_extension": ".py",
   "mimetype": "text/x-python",
   "name": "python",
   "nbconvert_exporter": "python",
   "pygments_lexer": "ipython3",
   "version": "3.8.8"
  }
 },
 "nbformat": 4,
 "nbformat_minor": 5
}

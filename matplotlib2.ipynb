{
 "cells": [
  {
   "cell_type": "code",
   "execution_count": 4,
   "id": "9008c1a4",
   "metadata": {},
   "outputs": [],
   "source": [
    "from matplotlib import pyplot as plt\n",
    "\n",
    "plt.rc('axes', unicode_minus = False)\n",
    "plt.rc('font', family = 'Malgun Gothic')\n",
    "\n",
    "import pandas as pd"
   ]
  },
  {
   "cell_type": "code",
   "execution_count": 5,
   "id": "f82929a3",
   "metadata": {},
   "outputs": [
    {
     "name": "stdout",
     "output_type": "stream",
     "text": [
      "(3189, 5)\n"
     ]
    },
    {
     "data": {
      "text/html": [
       "<div>\n",
       "<style scoped>\n",
       "    .dataframe tbody tr th:only-of-type {\n",
       "        vertical-align: middle;\n",
       "    }\n",
       "\n",
       "    .dataframe tbody tr th {\n",
       "        vertical-align: top;\n",
       "    }\n",
       "\n",
       "    .dataframe thead th {\n",
       "        text-align: right;\n",
       "    }\n",
       "</style>\n",
       "<table border=\"1\" class=\"dataframe\">\n",
       "  <thead>\n",
       "    <tr style=\"text-align: right;\">\n",
       "      <th></th>\n",
       "      <th>체결가</th>\n",
       "      <th>전일비</th>\n",
       "      <th>등락률</th>\n",
       "      <th>거래량(천주)</th>\n",
       "      <th>거래대금(백만)</th>\n",
       "    </tr>\n",
       "    <tr>\n",
       "      <th>날짜</th>\n",
       "      <th></th>\n",
       "      <th></th>\n",
       "      <th></th>\n",
       "      <th></th>\n",
       "      <th></th>\n",
       "    </tr>\n",
       "  </thead>\n",
       "  <tbody>\n",
       "    <tr>\n",
       "      <th>2018-11-23</th>\n",
       "      <td>266.33</td>\n",
       "      <td>1.43</td>\n",
       "      <td>-0.53%</td>\n",
       "      <td>58346</td>\n",
       "      <td>2670694</td>\n",
       "    </tr>\n",
       "    <tr>\n",
       "      <th>2018-11-22</th>\n",
       "      <td>267.76</td>\n",
       "      <td>0.51</td>\n",
       "      <td>-0.19%</td>\n",
       "      <td>63147</td>\n",
       "      <td>2917863</td>\n",
       "    </tr>\n",
       "    <tr>\n",
       "      <th>2018-11-21</th>\n",
       "      <td>268.27</td>\n",
       "      <td>1.31</td>\n",
       "      <td>-0.49%</td>\n",
       "      <td>79375</td>\n",
       "      <td>3726326</td>\n",
       "    </tr>\n",
       "    <tr>\n",
       "      <th>2018-11-20</th>\n",
       "      <td>269.58</td>\n",
       "      <td>2.73</td>\n",
       "      <td>-1.00%</td>\n",
       "      <td>79088</td>\n",
       "      <td>3667388</td>\n",
       "    </tr>\n",
       "    <tr>\n",
       "      <th>2018-11-19</th>\n",
       "      <td>272.31</td>\n",
       "      <td>0.66</td>\n",
       "      <td>+0.24%</td>\n",
       "      <td>73094</td>\n",
       "      <td>3401282</td>\n",
       "    </tr>\n",
       "  </tbody>\n",
       "</table>\n",
       "</div>"
      ],
      "text/plain": [
       "               체결가   전일비     등락률  거래량(천주)  거래대금(백만)\n",
       "날짜                                                 \n",
       "2018-11-23  266.33  1.43  -0.53%    58346   2670694\n",
       "2018-11-22  267.76  0.51  -0.19%    63147   2917863\n",
       "2018-11-21  268.27  1.31  -0.49%    79375   3726326\n",
       "2018-11-20  269.58  2.73  -1.00%    79088   3667388\n",
       "2018-11-19  272.31  0.66  +0.24%    73094   3401282"
      ]
     },
     "execution_count": 5,
     "metadata": {},
     "output_type": "execute_result"
    }
   ],
   "source": [
    "line1_df = pd.read_excel('C:/Users/theny/share/data/sample-line-1.xlsx', index_col = '날짜')\n",
    "print(line1_df.shape)\n",
    "line1_df.head()"
   ]
  }
 ],
 "metadata": {
  "kernelspec": {
   "display_name": "Python 3",
   "language": "python",
   "name": "python3"
  },
  "language_info": {
   "codemirror_mode": {
    "name": "ipython",
    "version": 3
   },
   "file_extension": ".py",
   "mimetype": "text/x-python",
   "name": "python",
   "nbconvert_exporter": "python",
   "pygments_lexer": "ipython3",
   "version": "3.8.8"
  }
 },
 "nbformat": 4,
 "nbformat_minor": 5
}
